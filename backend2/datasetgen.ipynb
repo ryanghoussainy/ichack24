{
 "cells": [
  {
   "cell_type": "code",
   "execution_count": 23,
   "metadata": {},
   "outputs": [],
   "source": [
    "import json\n",
    "from pandas import json_normalize\n",
    "import random\n",
    "\n",
    "file_path = \"jsonf.json\"\n",
    "with open(file_path, 'r') as file:\n",
    "    json_data = json.load(file)\n",
    "\n",
    "activity_data = json_data[\"data\"]\n",
    "data = json_normalize(activity_data)\n",
    "\n",
    "selected_columns = ['active_durations_data.activity_seconds',\n",
    "                    'calories_data.BMR_calories',\n",
    "                    'calories_data.net_activity_calories',\n",
    "                    'distance_data.summary.distance_meters',\n",
    "                    'distance_data.summary.steps',\n",
    "                    'heart_rate_data.summary.avg_hr_bpm',\n",
    "                    'heart_rate_data.summary.max_hr_bpm',\n",
    "                    'heart_rate_data.summary.min_hr_bpm',\n",
    "                    'heart_rate_data.summary.resting_hr_bpm',\n",
    "                    'movement_data.avg_cadence_rpm',\n",
    "                    'movement_data.avg_speed_meters_per_second',\n",
    "                    'movement_data.max_cadence_rpm',\n",
    "                    'movement_data.max_speed_meters_per_second',\n",
    "                    'oxygen_data.avg_saturation_percentage',\n",
    "                    'power_data.avg_watts',\n",
    "                    'power_data.max_watts'\n",
    "                    ]\n",
    "\n",
    "df_selected = data[selected_columns]\n",
    "# print(df_selected)\n",
    "\n",
    "active_seconds = selected_columns.index('active_durations_data.activity_seconds')\n",
    "BMR_calories = selected_columns.index('calories_data.BMR_calories')\n",
    "activity_calories = selected_columns.index('calories_data.net_activity_calories')\n",
    "distance_meters = selected_columns.index('distance_data.summary.distance_meters')\n",
    "steps = selected_columns.index('distance_data.summary.steps')\n",
    "avg_hr_bpm = selected_columns.index('heart_rate_data.summary.avg_hr_bpm')\n",
    "max_hr_bpm = selected_columns.index('heart_rate_data.summary.max_hr_bpm')\n",
    "min_hr_bpm = selected_columns.index('heart_rate_data.summary.min_hr_bpm')\n",
    "resting_hr_bpm = selected_columns.index('heart_rate_data.summary.resting_hr_bpm')\n",
    "avg_cadence_rpm = selected_columns.index('movement_data.avg_cadence_rpm')\n",
    "avg_speed_meters_per_second = selected_columns.index('movement_data.avg_speed_meters_per_second')\n",
    "max_cadence_rpm = selected_columns.index('movement_data.max_cadence_rpm')\n",
    "max_speed_meters_per_second = selected_columns.index('movement_data.max_speed_meters_per_second')\n",
    "avg_saturation_percentage = selected_columns.index('oxygen_data.avg_saturation_percentage')\n",
    "avg_watts = selected_columns.index('power_data.avg_watts')\n",
    "max_watts = selected_columns.index('power_data.max_watts')\n"
   ]
  },
  {
   "cell_type": "code",
   "execution_count": 30,
   "metadata": {},
   "outputs": [
    {
     "name": "stdout",
     "output_type": "stream",
     "text": [
      "0    31.501021\n",
      "Name: active_durations_data.activity_seconds, dtype: float64\n",
      "0    53.958454\n",
      "Name: active_durations_data.activity_seconds, dtype: float64\n"
     ]
    }
   ],
   "source": [
    "# Example for active seconds - change range in random.uniform\n",
    "print(data[selected_columns[active_seconds]])\n",
    "\n",
    "data[selected_columns[active_seconds]] = random_float = random.uniform(10.5, 120.0)\n",
    "\n",
    "print(data[selected_columns[active_seconds]])"
   ]
  }
 ],
 "metadata": {
  "kernelspec": {
   "display_name": "Python 3",
   "language": "python",
   "name": "python3"
  },
  "language_info": {
   "codemirror_mode": {
    "name": "ipython",
    "version": 3
   },
   "file_extension": ".py",
   "mimetype": "text/x-python",
   "name": "python",
   "nbconvert_exporter": "python",
   "pygments_lexer": "ipython3",
   "version": "3.10.6"
  }
 },
 "nbformat": 4,
 "nbformat_minor": 2
}
